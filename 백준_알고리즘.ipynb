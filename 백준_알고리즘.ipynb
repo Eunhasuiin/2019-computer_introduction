{
  "nbformat": 4,
  "nbformat_minor": 0,
  "metadata": {
    "colab": {
      "provenance": [],
      "authorship_tag": "ABX9TyOzGfDmkkwStI8kYli4UIZr",
      "include_colab_link": true
    },
    "kernelspec": {
      "name": "python3",
      "display_name": "Python 3"
    },
    "language_info": {
      "name": "python"
    }
  },
  "cells": [
    {
      "cell_type": "markdown",
      "metadata": {
        "id": "view-in-github",
        "colab_type": "text"
      },
      "source": [
        "<a href=\"https://colab.research.google.com/github/Eunhasuiin/2019-computer_introduction/blob/master/%EB%B0%B1%EC%A4%80_%EC%95%8C%EA%B3%A0%EB%A6%AC%EC%A6%98.ipynb\" target=\"_parent\"><img src=\"https://colab.research.google.com/assets/colab-badge.svg\" alt=\"Open In Colab\"/></a>"
      ]
    },
    {
      "cell_type": "markdown",
      "source": [
        "#1268 임시 반장 정하기"
      ],
      "metadata": {
        "id": "LKRPSSilX7uL"
      }
    },
    {
      "cell_type": "code",
      "execution_count": 116,
      "metadata": {
        "colab": {
          "base_uri": "https://localhost:8080/"
        },
        "id": "OMNKz3K-W0-e",
        "outputId": "d058783b-013f-4654-871b-2f8ebd856145"
      },
      "outputs": [
        {
          "output_type": "stream",
          "name": "stdout",
          "text": [
            "5\n",
            "4\n"
          ]
        }
      ],
      "source": [
        "a=int(input())\n",
        "data=[]\n",
        "D=[]\n",
        "res=0\n",
        "temp=0\n",
        "grade=0\n",
        "\n",
        "for _ in range(a):data.append(list(map(int,input().split()))) #각 학생의 번호 뽑기\n",
        "person=[[] for _ in range(a)]\n",
        "\n",
        "for i in range(5): #n학년때 학생의 반\n",
        "    for j in range(a):   D.append(data[j][grade]) # 열 추출기\n",
        "    while D: #각각의 학생 선택\n",
        "        now=D.pop(0)\n",
        "        student=a-len(D)-1\n",
        "        for k in range(len(D)): #현 학생 번호\n",
        "            if now != D[k]: continue\n",
        "            person[student].append(student+k+1)\n",
        "            person[student+k+1].append(student)\n",
        "    grade+=1\n",
        "  \n",
        "\n",
        "for i in range(len(person)):\n",
        "  if temp < len(set(person[i])): \n",
        "    temp=len(set(person[i]))\n",
        "    res=i\n",
        "\n",
        "print(res+1) #-> max"
      ]
    },
    {
      "cell_type": "code",
      "source": [
        "a=int(input())\n",
        "data=[]\n",
        "D=[]\n",
        "grade=0\n",
        "\n",
        "for i in range(a):data.append(list(map(int,input().split()))) #각 학생의 번호 뽑기\n",
        "person=[[0 for _ in range(a)] for _ in range(a)]\n",
        "\n",
        "for i in range(5): #n학년때 학생의 반\n",
        "    for j in range(a):   D.append(data[j][grade]) # 열 추출기\n",
        "    while D: #각각의 학생 선택\n",
        "        now=D.pop(0)\n",
        "        student=a-len(D)-1\n",
        "        for k in range(len(D)): #현 학생 번호\n",
        "            if now != D[k]: continue\n",
        "            person[student][student+k+1]=1\n",
        "            person[student+k+1][student]=1\n",
        "    grade+=1\n",
        "  \n",
        "\n",
        "\n",
        "res=[]\n",
        "for i in person: res.append(i.count(1))\n",
        "print(res.index(max(res))+1)"
      ],
      "metadata": {
        "id": "nyo7zn3HSL0O"
      },
      "execution_count": null,
      "outputs": []
    },
    {
      "cell_type": "code",
      "source": [
        "a=int(input()) #str -> int\n",
        "data=[]\n",
        "for _ in range(a): \n",
        "    temp=list(map(int,input().split()))\n",
        "    data.append(temp) #str -> int\n",
        "\n",
        "person=[[] for _ in range(a)]\n",
        "\n",
        "for k in range(5): #n학년\n",
        "    for j in range(a): #현 학생\n",
        "        for i in range(j+1, a): #같은 반 학생은 누구인가\n",
        "            if data[i][k] != data[j][k]: continue #c\n",
        "            person[j].append(i)#c\n",
        "            person[i].append(j)#c\n",
        "\n",
        "            \n",
        "temp=0\n",
        "res=0\n",
        "for i in range(len(person)):\n",
        "  if temp < len(set(person[i])): \n",
        "    temp= len(set(person[i]))\n",
        "    res=i\n",
        "\n",
        "print(res+1)"
      ],
      "metadata": {
        "id": "4gkwjygySKaC"
      },
      "execution_count": null,
      "outputs": []
    }
  ]
}